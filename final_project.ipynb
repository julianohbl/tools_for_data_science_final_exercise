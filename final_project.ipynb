{
  "metadata": {
    "language_info": {
      "codemirror_mode": {
        "name": "python",
        "version": 3
      },
      "file_extension": ".py",
      "mimetype": "text/x-python",
      "name": "python",
      "nbconvert_exporter": "python",
      "pygments_lexer": "ipython3",
      "version": "3.8"
    },
    "kernelspec": {
      "name": "python",
      "display_name": "Python (Pyodide)",
      "language": "python"
    }
  },
  "nbformat_minor": 4,
  "nbformat": 4,
  "cells": [
    {
      "cell_type": "markdown",
      "source": "# Final project",
      "metadata": {}
    },
    {
      "cell_type": "markdown",
      "source": "This is the final activity of the Tools for Data Science course.",
      "metadata": {}
    },
    {
      "cell_type": "markdown",
      "source": "Below is a list of languages for data science:\n- Python\n- R\n- SQL\n- Java\n- Julia\n- Scala\n- C/C++\n- JavaScript\n- Swift\n- Go\n- MATLAB\n- SAS",
      "metadata": {}
    },
    {
      "cell_type": "markdown",
      "source": "Below is a list of libraries for data science:\n- NumPy\n- Pandas\n- Matplotlib\n- Scikit-Learn\n- SciPy\n- TensorFlow\n- Keras\n- PyTorch",
      "metadata": {}
    },
    {
      "cell_type": "markdown",
      "source": "Below is a list of tools for data science:\n- SAS\n- Apache Spark\n- BigML\n- D3.js\n- MATLAB\n- Excel\n- ggplot2\n- Tableau\n- Jupyter\n- Matplotlib\n- NLTK\n- Scikit-learn\n- TensorFlow\n- Weka",
      "metadata": {}
    },
    {
      "cell_type": "markdown",
      "source": "Examples of arithmetic expressions:",
      "metadata": {}
    },
    {
      "cell_type": "code",
      "source": "(3*4)+5",
      "metadata": {
        "trusted": true
      },
      "execution_count": 3,
      "outputs": [
        {
          "execution_count": 3,
          "output_type": "execute_result",
          "data": {
            "text/plain": "17"
          },
          "metadata": {}
        }
      ]
    },
    {
      "cell_type": "code",
      "source": "minutes = 500\nconvert_minutes_to_hours = print(f\"{round((minutes / 60))} : {round((minutes % 60))}\")",
      "metadata": {
        "trusted": true
      },
      "execution_count": 22,
      "outputs": [
        {
          "name": "stdout",
          "text": "8 : 20\n",
          "output_type": "stream"
        }
      ]
    },
    {
      "cell_type": "markdown",
      "source": "The objectives of this exercise were:\n- Get to know Jupyter Notebook\n- Languages for data science\n- Libraries for data science\n- Tools for data science\n- Arithmetic expressions\n- Git and Github",
      "metadata": {}
    },
    {
      "cell_type": "markdown",
      "source": "Author: Juliano Lima",
      "metadata": {}
    },
    {
      "cell_type": "code",
      "source": "",
      "metadata": {},
      "execution_count": null,
      "outputs": []
    }
  ]
}